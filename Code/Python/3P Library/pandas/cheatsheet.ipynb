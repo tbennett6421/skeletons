{
 "cells": [
  {
   "cell_type": "code",
   "execution_count": null,
   "source": [
    "## Preload libraries\r\n",
    "import numpy as np\r\n",
    "import pandas as pd\r\n",
    "from ipython import display as display\r\n",
    "from ipython import pretty_display as pdisplay\r\n",
    "from matplotlib import pyplot as plt\r\n",
    "\r\n",
    "## Create RNG generator\r\n",
    "rng = np.random.default_rng()\r\n",
    "try:\r\n",
    "    rng_integers = rng.integers\r\n",
    "except AttributeError:\r\n",
    "    rng_integers = rng.randint\r\n",
    "\r\n",
    "## Preset numpy printing_options\r\n",
    "np.set_printoptions(suppress=True)      # disable scientific notation\r\n",
    "np.set_printoptions(edgeitems=6)        # show more elements"
   ],
   "outputs": [],
   "metadata": {}
  },
  {
   "cell_type": "code",
   "execution_count": null,
   "source": [
    "## numpy helper functions\r\n",
    "def check_nan(npa):\r\n",
    "    result = list(filter(lambda x: (x == True), np.isnan(npa)))\r\n",
    "    if len(result) > 0:\r\n",
    "        return True\r\n",
    "    else:\r\n",
    "        return False\r\n",
    "\r\n",
    "def _rng_int_stream(low=0, high=100, count=10):\r\n",
    "    \"\"\"\r\n",
    "        Return a stream of random integers\r\n",
    "        low: the min integer to generate from pool (inclusive)\r\n",
    "        high: the max integer to generate from pool (exclusive)\r\n",
    "        count: the number of integers to generate\r\n",
    "        method: how to provide the values back to the calling function\r\n",
    "            - list: return a list() to the caller\r\n",
    "            - yield: return values using the yield keyword\r\n",
    "    \"\"\"\r\n",
    "    # coerce arguments to int()\r\n",
    "    low, high, count = [int(x) for x in [low, high, count]]\r\n",
    "    for _ in range(0,count):\r\n",
    "        yield rng_integers(low,high)\r\n",
    "\r\n",
    "def rng_int_iter(low=0, high=100, count=10):\r\n",
    "    return list(_rng_int_stream(low, high, count))\r\n",
    "\r\n",
    "def rng_int_gen(low=0, high=100, count=10):\r\n",
    "    return _rng_int_stream(low, high, count)\r\n",
    "\r\n",
    "def npa_details(npa):\r\n",
    "    dic = {\r\n",
    "        'type': type(npa),\r\n",
    "        'ndim': npa.ndim,\r\n",
    "        'shape': npa.shape,\r\n",
    "        'size': npa.size,\r\n",
    "        'dtype': npa.dtype,\r\n",
    "        'itemsize': npa.itemsize,\r\n",
    "        'nbytes': npa.nbytes,\r\n",
    "        'data': npa.data,\r\n",
    "    }\r\n",
    "    for k,v in dic.items():\r\n",
    "        print(f\"The {k} of the numpy array is: {v}\")\r\n",
    "    print(\"print(np_array):\")\r\n",
    "    print(npa)\r\n",
    "    print()\r\n",
    "    return dic\r\n",
    "\r\n",
    "def np2d_rows(npa):\r\n",
    "    rows = [i for i in npa]\r\n",
    "    for idx,item in enumerate(rows):\r\n",
    "        print(f\"Index({idx}): {item}\")\r\n",
    "    return rows"
   ],
   "outputs": [],
   "metadata": {}
  },
  {
   "cell_type": "code",
   "execution_count": null,
   "source": [
    "## pandas helper functions\r\n",
    "def pandaColumns(pdf):\r\n",
    "    dic = {idx:i for idx,i in enumerate(df.columns)}\r\n",
    "    _ = {print(f\"Index[{k}] => {v}\") for k,v in dic.items()}\r\n",
    "    return dic"
   ],
   "outputs": [],
   "metadata": {}
  },
  {
   "cell_type": "markdown",
   "source": [
    "# Pandas\r\n",
    "Pandas is a fast, powerful, flexible and easy to use open source data analysis and manipulation tool, built on top of the Python programming language. Pandas provides high performance, fast, easy to use data structures. Pandas is built on the numpy library.\r\n",
    "\r\n",
    "## Differences from numpy\r\n",
    "|PANDAS|NUMPY|\r\n",
    "|---|---|\r\n",
    "|Working with tabular data|Working with numeric data|\r\n",
    "|Data frame and Series|Multidimensional Arrays|\r\n",
    "|Pandas consumes more memory|Numpy is memory efficient|\r\n",
    "|Pandas typically has a better performance when number of rows is 500K or more.|Numpy typically has a better performance when number of rows is 50K or less.|\r\n",
    "|Indexing of the pandas series is very slow as compared to numpy arrays.|Indexing of numpy Arrays is very fast.|\r\n"
   ],
   "metadata": {}
  },
  {
   "cell_type": "code",
   "execution_count": null,
   "source": [
    "import os\r\n",
    "\r\n",
    "def get_file_list(starting_directory=None):\r\n",
    "    assert starting_directory is not None\r\n",
    "    final_list = list()\r\n",
    "    files = os.listdir(starting_directory)\r\n",
    "    for f in files:\r\n",
    "        file_name = os.path.join(starting_directory, f)\r\n",
    "        if os.path.isdir(file_name):\r\n",
    "            final_list = final_list + get_file_list(file_name)\r\n",
    "        else:\r\n",
    "            final_list.append(file_name)\r\n",
    "    return final_list\r\n",
    "\r\n",
    "directory = \"C:\\\\Users\\\\tbennett\\\\Desktop\\\\SEC595\\\\ISO Contents\\\\Exercises\\\\data\\\\Day 2\\\\Backblaze\\\\data_Q4_2020\\\\\"\r\n",
    "all_files = get_file_list(directory)\r\n",
    "print(len(all_files))\r\n",
    "print(all_files[:5], all_files[-5:])"
   ],
   "outputs": [],
   "metadata": {}
  },
  {
   "cell_type": "markdown",
   "source": [
    "Pandas provides the `read_csv()` convenience function on the class.\r\n",
    "\r\n",
    "Lets load some csv data and view it"
   ],
   "metadata": {}
  },
  {
   "cell_type": "code",
   "execution_count": 53,
   "source": [
    "df = pd.read_csv(all_files[0])\r\n",
    "methods = [\r\n",
    "    '_repr_html_',\r\n",
    "    '_repr_json_',\r\n",
    "    '_repr_jpeg_',\r\n",
    "    '_repr_png_',\r\n",
    "    '_repr_svg_',\r\n",
    "]\r\n",
    "valid_opts = {}\r\n",
    "for m in methods:\r\n",
    "    print(f\"Trying Bound Method: {m}\")\r\n",
    "    try:\r\n",
    "        # Create a function pointer to the bound method\r\n",
    "        a = getattr(df, m)\r\n",
    "        # If we don't throw exception, then we can use it\r\n",
    "        print(f\"[*] Object has bound method {m}\")\r\n",
    "        valid_opts[m] = a\r\n",
    "    except AttributeError:\r\n",
    "        print(f\"[!] Object does not have bound method {m}\")\r\n",
    "        pass\r\n",
    "\r\n",
    "#for k,v in valid_opts.items():\r\n",
    "#    print(k)\r\n",
    "#    print(v())\r\n",
    "\r\n",
    "pdisplay(pd)\r\n",
    "#print(valid_opts)\r\n",
    "#print(display(df))\r\n",
    "#pandaColumns(df)"
   ],
   "outputs": [
    {
     "output_type": "stream",
     "name": "stdout",
     "text": [
      "Trying Bound Method: _repr_html_\n",
      "[*] Object has bound method _repr_html_\n",
      "Trying Bound Method: _repr_json_\n",
      "[!] Object does not have bound method _repr_json_\n",
      "Trying Bound Method: _repr_jpeg_\n",
      "[!] Object does not have bound method _repr_jpeg_\n",
      "Trying Bound Method: _repr_png_\n",
      "[!] Object does not have bound method _repr_png_\n",
      "Trying Bound Method: _repr_svg_\n",
      "[!] Object does not have bound method _repr_svg_\n"
     ]
    },
    {
     "output_type": "error",
     "ename": "NameError",
     "evalue": "name 'pdisplay' is not defined",
     "traceback": [
      "\u001b[1;31m---------------------------------------------------------------------------\u001b[0m",
      "\u001b[1;31mNameError\u001b[0m                                 Traceback (most recent call last)",
      "\u001b[1;32m~\\AppData\\Local\\Temp/ipykernel_10496/3015497005.py\u001b[0m in \u001b[0;36m<module>\u001b[1;34m\u001b[0m\n\u001b[0;32m     24\u001b[0m \u001b[1;31m#    print(v())\u001b[0m\u001b[1;33m\u001b[0m\u001b[1;33m\u001b[0m\u001b[0m\n\u001b[0;32m     25\u001b[0m \u001b[1;33m\u001b[0m\u001b[0m\n\u001b[1;32m---> 26\u001b[1;33m \u001b[0mpdisplay\u001b[0m\u001b[1;33m(\u001b[0m\u001b[0mpd\u001b[0m\u001b[1;33m)\u001b[0m\u001b[1;33m\u001b[0m\u001b[1;33m\u001b[0m\u001b[0m\n\u001b[0m\u001b[0;32m     27\u001b[0m \u001b[1;31m#print(valid_opts)\u001b[0m\u001b[1;33m\u001b[0m\u001b[1;33m\u001b[0m\u001b[0m\n\u001b[0;32m     28\u001b[0m \u001b[1;31m#print(display(df))\u001b[0m\u001b[1;33m\u001b[0m\u001b[1;33m\u001b[0m\u001b[0m\n",
      "\u001b[1;31mNameError\u001b[0m: name 'pdisplay' is not defined"
     ]
    }
   ],
   "metadata": {}
  },
  {
   "cell_type": "code",
   "execution_count": null,
   "source": [],
   "outputs": [],
   "metadata": {}
  }
 ],
 "metadata": {
  "orig_nbformat": 4,
  "language_info": {
   "name": "python",
   "version": "3.9.7",
   "mimetype": "text/x-python",
   "codemirror_mode": {
    "name": "ipython",
    "version": 3
   },
   "pygments_lexer": "ipython3",
   "nbconvert_exporter": "python",
   "file_extension": ".py"
  },
  "kernelspec": {
   "name": "python3",
   "display_name": "Python 3.9.7 64-bit ('base': conda)"
  },
  "interpreter": {
   "hash": "6a6ae1a10b752a4a6730abd3646c27c7bec63855881566ab4a49b1336cfe295a"
  }
 },
 "nbformat": 4,
 "nbformat_minor": 2
}