{
 "cells": [
  {
   "cell_type": "code",
   "execution_count": 1,
   "source": [
    "## preload numpy\r\n",
    "import numpy as np\r\n",
    "\r\n",
    "## Create RNG generator\r\n",
    "rng = np.random.default_rng()\r\n",
    "try:\r\n",
    "    rng_integers = rng.integers\r\n",
    "except AttributeError:\r\n",
    "    rng_integers = rng.randint"
   ],
   "outputs": [],
   "metadata": {}
  },
  {
   "cell_type": "code",
   "execution_count": 2,
   "source": [
    "## helper functions\r\n",
    "def _rng_int_stream(low=0, high=100, count=10):\r\n",
    "    \"\"\"\r\n",
    "        Return a stream of random integers\r\n",
    "        low: the min integer to generate from pool (inclusive)\r\n",
    "        high: the max integer to generate from pool (exclusive)\r\n",
    "        count: the number of integers to generate\r\n",
    "        method: how to provide the values back to the calling function\r\n",
    "            - list: return a list() to the caller\r\n",
    "            - yield: return values using the yield keyword\r\n",
    "    \"\"\"\r\n",
    "    # coerce arguments to int()\r\n",
    "    low, high, count = [int(x) for x in [low, high, count]]\r\n",
    "    for _ in range(0,count):\r\n",
    "        yield rng_integers(low,high)\r\n",
    "\r\n",
    "def rng_int_iter(low=0, high=100, count=10):\r\n",
    "    return list(_rng_int_stream(low, high, count))\r\n",
    "\r\n",
    "def rng_int_gen(low=0, high=100, count=10):\r\n",
    "    return _rng_int_stream(low, high, count)\r\n",
    "\r\n",
    "def npa_details(npa):\r\n",
    "    dic = {\r\n",
    "        'type': type(npa),\r\n",
    "        'ndim': npa.ndim,\r\n",
    "        'shape': npa.shape,\r\n",
    "        'size': npa.size,\r\n",
    "        'dtype': npa.dtype,\r\n",
    "        'itemsize': npa.itemsize,\r\n",
    "        'nbytes': npa.nbytes,\r\n",
    "        'data': npa.data,\r\n",
    "    }\r\n",
    "    for k,v in dic.items():\r\n",
    "        print(f\"The {k} of the numpy array is: {v}\")\r\n",
    "    print(f\"print(np_array): {npa}\")\r\n",
    "    return dic"
   ],
   "outputs": [],
   "metadata": {}
  },
  {
   "cell_type": "code",
   "execution_count": 3,
   "source": [
    "## preload some sample arrays\r\n",
    "np1d = np.arange(20)\r\n",
    "np2d = np.arange(20).reshape(4,5)\r\n",
    "np3d = np.arange(27).reshape(3,3,3)\r\n",
    "\r\n",
    "## preload some sample arrays with random data\r\n",
    "np1d = np.fromiter(rng_int_iter(10,100,20), int, 20)\r\n",
    "np2d = np.fromiter(rng_int_iter(10,100,20), int, 20).reshape(4,5)\r\n",
    "np3d = np.fromiter(rng_int_iter(10,100,27), int, 27).reshape(3,3,3)"
   ],
   "outputs": [],
   "metadata": {}
  },
  {
   "cell_type": "markdown",
   "source": [
    "# NumPy arrays\r\n",
    "NumPy’s array class is called `ndarray`. It is also known by the alias `array`. Note that `numpy.array` is not the same as the Standard Python Library class `array.array`, which only handles one-dimensional arrays and offers less functionality.\r\n",
    "\r\n",
    "## Instantiating an ndarray\r\n",
    "```py\r\n",
    "import numpy as np\r\n",
    "np_array = np.array([1, 2, 3, 5, 7, 11, 13, 17])\r\n",
    "```"
   ],
   "metadata": {}
  },
  {
   "cell_type": "markdown",
   "source": [
    "## Attributes\r\n",
    "The more important attributes of an ndarray object are:\r\n",
    "* ndim: the number of dimenions (axes) of the array\r\n",
    "* shape: the dimensions of the array\r\n",
    "* size: the total number of elements\r\n",
    "* dtype: an object describing the type of the elements in the array\r\n",
    "* itemsize: the size in bytes of each element in the array\r\n",
    "* nbytes: the total size in bytes of the array\r\n",
    "* data: the buffer containg the actual elements of the array\r\n"
   ],
   "metadata": {}
  },
  {
   "cell_type": "code",
   "execution_count": 4,
   "source": [
    "#Exploring numpy arrays attributes\r\n",
    "_ = npa_details(np1d)\r\n",
    "print()\r\n",
    "_ = npa_details(np2d)\r\n",
    "print()\r\n",
    "_ = npa_details(np3d)\r\n",
    "print()"
   ],
   "outputs": [
    {
     "output_type": "stream",
     "name": "stdout",
     "text": [
      "The type of the numpy array is: <class 'numpy.ndarray'>\n",
      "The ndim of the numpy array is: 1\n",
      "The shape of the numpy array is: (20,)\n",
      "The size of the numpy array is: 20\n",
      "The dtype of the numpy array is: int32\n",
      "The itemsize of the numpy array is: 4\n",
      "The nbytes of the numpy array is: 80\n",
      "The data of the numpy array is: <memory at 0x000002086DBCDB80>\n",
      "print(np_array): [14 61 61 90 33 37 20 54 69 15 15 45 66 43 73 45 92 69 79 67]\n",
      "\n",
      "The type of the numpy array is: <class 'numpy.ndarray'>\n",
      "The ndim of the numpy array is: 2\n",
      "The shape of the numpy array is: (4, 5)\n",
      "The size of the numpy array is: 20\n",
      "The dtype of the numpy array is: int32\n",
      "The itemsize of the numpy array is: 4\n",
      "The nbytes of the numpy array is: 80\n",
      "The data of the numpy array is: <memory at 0x000002086D884380>\n",
      "print(np_array): [[85 26 28 23 75]\n",
      " [83 43 50 21 16]\n",
      " [95 66 48 14 74]\n",
      " [80 50 95 37 65]]\n",
      "\n",
      "The type of the numpy array is: <class 'numpy.ndarray'>\n",
      "The ndim of the numpy array is: 3\n",
      "The shape of the numpy array is: (3, 3, 3)\n",
      "The size of the numpy array is: 27\n",
      "The dtype of the numpy array is: int32\n",
      "The itemsize of the numpy array is: 4\n",
      "The nbytes of the numpy array is: 108\n",
      "The data of the numpy array is: <memory at 0x000002086EC46A90>\n",
      "print(np_array): [[[16 96 64]\n",
      "  [84 61 14]\n",
      "  [50 26 73]]\n",
      "\n",
      " [[11 34 84]\n",
      "  [70 88 61]\n",
      "  [91 45 56]]\n",
      "\n",
      " [[84 21 29]\n",
      "  [18 41 41]\n",
      "  [42 10 62]]]\n",
      "\n"
     ]
    }
   ],
   "metadata": {}
  }
 ],
 "metadata": {
  "orig_nbformat": 4,
  "language_info": {
   "name": "python",
   "version": "3.9.7",
   "mimetype": "text/x-python",
   "codemirror_mode": {
    "name": "ipython",
    "version": 3
   },
   "pygments_lexer": "ipython3",
   "nbconvert_exporter": "python",
   "file_extension": ".py"
  },
  "kernelspec": {
   "name": "python3",
   "display_name": "Python 3.9.7 64-bit ('base': conda)"
  },
  "interpreter": {
   "hash": "6a6ae1a10b752a4a6730abd3646c27c7bec63855881566ab4a49b1336cfe295a"
  }
 },
 "nbformat": 4,
 "nbformat_minor": 2
}