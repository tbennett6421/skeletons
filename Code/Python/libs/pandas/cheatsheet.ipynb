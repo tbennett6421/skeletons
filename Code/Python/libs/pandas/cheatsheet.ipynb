{
 "cells": [
  {
   "cell_type": "code",
   "execution_count": 3,
   "source": [
    "## Preload libraries\r\n",
    "import numpy as np\r\n",
    "import pandas as pd\r\n",
    "from matplotlib import pyplot as plt\r\n",
    "\r\n",
    "## Create RNG generator\r\n",
    "rng = np.random.default_rng()\r\n",
    "try:\r\n",
    "    rng_integers = rng.integers\r\n",
    "except AttributeError:\r\n",
    "    rng_integers = rng.randint\r\n",
    "\r\n",
    "## Preset numpy printing_options\r\n",
    "np.set_printoptions(suppress=True)      # disable scientific notation\r\n",
    "np.set_printoptions(edgeitems=6)        # show more elements"
   ],
   "outputs": [],
   "metadata": {}
  },
  {
   "cell_type": "code",
   "execution_count": 4,
   "source": [
    "## helper functions\r\n",
    "def check_nan(npa):\r\n",
    "    result = list(filter(lambda x: (x == True), np.isnan(npa)))\r\n",
    "    if len(result) > 0:\r\n",
    "        return True\r\n",
    "    else:\r\n",
    "        return False\r\n",
    "\r\n",
    "def _rng_int_stream(low=0, high=100, count=10):\r\n",
    "    \"\"\"\r\n",
    "        Return a stream of random integers\r\n",
    "        low: the min integer to generate from pool (inclusive)\r\n",
    "        high: the max integer to generate from pool (exclusive)\r\n",
    "        count: the number of integers to generate\r\n",
    "        method: how to provide the values back to the calling function\r\n",
    "            - list: return a list() to the caller\r\n",
    "            - yield: return values using the yield keyword\r\n",
    "    \"\"\"\r\n",
    "    # coerce arguments to int()\r\n",
    "    low, high, count = [int(x) for x in [low, high, count]]\r\n",
    "    for _ in range(0,count):\r\n",
    "        yield rng_integers(low,high)\r\n",
    "\r\n",
    "def rng_int_iter(low=0, high=100, count=10):\r\n",
    "    return list(_rng_int_stream(low, high, count))\r\n",
    "\r\n",
    "def rng_int_gen(low=0, high=100, count=10):\r\n",
    "    return _rng_int_stream(low, high, count)\r\n",
    "\r\n",
    "def npa_details(npa):\r\n",
    "    dic = {\r\n",
    "        'type': type(npa),\r\n",
    "        'ndim': npa.ndim,\r\n",
    "        'shape': npa.shape,\r\n",
    "        'size': npa.size,\r\n",
    "        'dtype': npa.dtype,\r\n",
    "        'itemsize': npa.itemsize,\r\n",
    "        'nbytes': npa.nbytes,\r\n",
    "        'data': npa.data,\r\n",
    "    }\r\n",
    "    for k,v in dic.items():\r\n",
    "        print(f\"The {k} of the numpy array is: {v}\")\r\n",
    "    print(\"print(np_array):\")\r\n",
    "    print(npa)\r\n",
    "    print()\r\n",
    "    return dic\r\n",
    "\r\n",
    "def np2d_rows(npa):\r\n",
    "    rows = [i for i in npa]\r\n",
    "    for idx,item in enumerate(rows):\r\n",
    "        print(f\"Index({idx}): {item}\")\r\n",
    "    return rows"
   ],
   "outputs": [],
   "metadata": {}
  }
 ],
 "metadata": {
  "orig_nbformat": 4,
  "language_info": {
   "name": "python",
   "version": "3.9.7",
   "mimetype": "text/x-python",
   "codemirror_mode": {
    "name": "ipython",
    "version": 3
   },
   "pygments_lexer": "ipython3",
   "nbconvert_exporter": "python",
   "file_extension": ".py"
  },
  "kernelspec": {
   "name": "python3",
   "display_name": "Python 3.9.7 64-bit ('base': conda)"
  },
  "interpreter": {
   "hash": "6a6ae1a10b752a4a6730abd3646c27c7bec63855881566ab4a49b1336cfe295a"
  }
 },
 "nbformat": 4,
 "nbformat_minor": 2
}