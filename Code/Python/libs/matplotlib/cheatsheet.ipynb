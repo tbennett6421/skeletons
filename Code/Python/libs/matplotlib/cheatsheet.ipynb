{
 "cells": [
  {
   "cell_type": "code",
   "execution_count": null,
   "source": [
    "## Preload libraries\r\n",
    "import numpy as np\r\n",
    "from matplotlib import pyplot as plt\r\n",
    "\r\n",
    "## Create RNG generator\r\n",
    "rng = np.random.default_rng()\r\n",
    "try:\r\n",
    "    rng_integers = rng.integers\r\n",
    "except AttributeError:\r\n",
    "    rng_integers = rng.randint\r\n",
    "\r\n",
    "## Preset numpy printing_options\r\n",
    "np.set_printoptions(suppress=True)      # disable scientific notation\r\n",
    "np.set_printoptions(edgeitems=6)        # show more elements"
   ],
   "outputs": [],
   "metadata": {}
  },
  {
   "cell_type": "code",
   "execution_count": null,
   "source": [
    "## helper functions\r\n",
    "def _rng_int_stream(low=0, high=100, count=10):\r\n",
    "    \"\"\"\r\n",
    "        Return a stream of random integers\r\n",
    "        low: the min integer to generate from pool (inclusive)\r\n",
    "        high: the max integer to generate from pool (exclusive)\r\n",
    "        count: the number of integers to generate\r\n",
    "        method: how to provide the values back to the calling function\r\n",
    "            - list: return a list() to the caller\r\n",
    "            - yield: return values using the yield keyword\r\n",
    "    \"\"\"\r\n",
    "    # coerce arguments to int()\r\n",
    "    low, high, count = [int(x) for x in [low, high, count]]\r\n",
    "    for _ in range(0,count):\r\n",
    "        yield rng_integers(low,high)\r\n",
    "\r\n",
    "def rng_int_iter(low=0, high=100, count=10):\r\n",
    "    return list(_rng_int_stream(low, high, count))\r\n",
    "\r\n",
    "def rng_int_gen(low=0, high=100, count=10):\r\n",
    "    return _rng_int_stream(low, high, count)\r\n",
    "\r\n",
    "def npa_details(npa):\r\n",
    "    dic = {\r\n",
    "        'type': type(npa),\r\n",
    "        'ndim': npa.ndim,\r\n",
    "        'shape': npa.shape,\r\n",
    "        'size': npa.size,\r\n",
    "        'dtype': npa.dtype,\r\n",
    "        'itemsize': npa.itemsize,\r\n",
    "        'nbytes': npa.nbytes,\r\n",
    "        'data': npa.data,\r\n",
    "    }\r\n",
    "    for k,v in dic.items():\r\n",
    "        print(f\"The {k} of the numpy array is: {v}\")\r\n",
    "    print(\"print(np_array):\")\r\n",
    "    print(npa)\r\n",
    "    print()\r\n",
    "    return dic\r\n",
    "\r\n",
    "def np2d_rows(npa):\r\n",
    "    rows = [i for i in npa]\r\n",
    "    for idx,item in enumerate(rows):\r\n",
    "        print(f\"Index({idx}): {item}\")\r\n",
    "    return rows"
   ],
   "outputs": [],
   "metadata": {}
  },
  {
   "cell_type": "markdown",
   "source": [
    "Before we begin to plot data, we need some interesting data to look at. Let's begin by loading some hits data from a webserver.\r\n",
    "\r\n",
    "Once loading the data into numpy, we should look at what the data looks like and what properties it has."
   ],
   "metadata": {}
  },
  {
   "cell_type": "code",
   "execution_count": null,
   "source": [
    "# Lets load some data\r\n",
    "web_traffic_file = \"../data_files/web_traffic.tsv\"\r\n",
    "data = np.genfromtxt(web_traffic_file)\r\n",
    "_ = npa_details(data)"
   ],
   "outputs": [],
   "metadata": {}
  },
  {
   "cell_type": "markdown",
   "source": [
    "Looking at our data it appears to have the following structure.\r\n",
    "\r\n",
    "|Hour|Number of unique hits|\r\n",
    "|---|---|\r\n",
    "|0.0|1590.0|\r\n",
    "|1.0|2130.0|\r\n",
    "|2.0|3221.0|\r\n",
    "|...|...|\r\n",
    "\r\n",
    "Let's extract each column out and store them in independent arrays labeled `hits` and `hours`"
   ],
   "metadata": {}
  },
  {
   "cell_type": "code",
   "execution_count": null,
   "source": [
    "def check_nan(npa):\r\n",
    "    result = list(filter(lambda x: (x == True), np.isnan(npa)))\r\n",
    "    if len(result) > 0:\r\n",
    "        return True\r\n",
    "    else:\r\n",
    "        return False\r\n",
    "\r\n",
    "hours = data[:,0]   # Extract row(*)col(0)\r\n",
    "hits = data[:,1]    # Extract row(*)col(1)\r\n",
    "print(f\"First 5 records in hours: {hours[0:5]}\")\r\n",
    "print(f\"First 5 records in hits: {hits[0:5]}\")\r\n",
    "\r\n",
    "# is the data reliable? Check for Not-A-Number(nan)\r\n",
    "print(f\"Does hours include nan?: {check_nan(hours)}\")\r\n",
    "print(f\"Does hits include nan?: {check_nan(hits)}\")"
   ],
   "outputs": [],
   "metadata": {}
  },
  {
   "cell_type": "markdown",
   "source": [
    "So, it appears we have an issue. While the hours data is all numeric, it appears as though the hits data has some entries that contain `nan`\r\n",
    "\r\n",
    "If we try and give this data to matplotlib, we are gonna have issues. So before proceeding we need to preprocess our data such that it doesn't have any issues. We can do this using the function `nan_to_num()`\r\n",
    "> numpy.nan_to_num(x, copy=True, nan=0.0, posinf=None, neginf=None)\r\n",
    ">\r\n",
    ">Replace NaN with zero and infinity with large finite numbers (default behaviour) or with the numbers defined by the user using the nan, posinf and/or neginf keywords.\r\n",
    ">\r\n",
    ">If x is inexact, NaN is replaced by zero or by the user defined value in nan keyword, infinity is replaced by the largest finite floating point values representable by x.dtype or by the user defined value in posinf keyword and -infinity is replaced by the most negative finite floating point values representable by x.dtype or by the user defined value in neginf keyword.\r\n",
    "\r\n",
    "This function can be used to force `nan` values to zero, but it also allows us to place limits to be used in the place of positively or negatively infinite values."
   ],
   "metadata": {}
  },
  {
   "cell_type": "code",
   "execution_count": null,
   "source": [
    "def check_nan(npa):\r\n",
    "    result = list(filter(lambda x: (x == True), np.isnan(npa)))\r\n",
    "    if len(result) > 0:\r\n",
    "        return True\r\n",
    "    else:\r\n",
    "        return False\r\n",
    "\r\n",
    "hits = np.nan_to_num(hits)\r\n",
    "print(f\"Does hits include nan?: {check_nan(hits)}\")\r\n",
    "print(hits)"
   ],
   "outputs": [],
   "metadata": {}
  },
  {
   "cell_type": "markdown",
   "source": [
    "# Plotting data\r\n",
    "Now that our data is squared away, lets plot some graphs.\r\n",
    "\r\n",
    "The general format for graphing plots looks like this.\r\n",
    "```py\r\n",
    "# import matplotlib\r\n",
    "from matplotlib import pyplot as plt\r\n",
    "\r\n",
    "# plot data points\r\n",
    "plt.plot(data)\r\n",
    "\r\n",
    "# show the graph\r\n",
    "plt.show()\r\n",
    "```"
   ],
   "metadata": {}
  },
  {
   "cell_type": "code",
   "execution_count": null,
   "source": [
    "from matplotlib import pyplot as plt\r\n",
    "plt.plot(hits)\r\n",
    "plt.show()"
   ],
   "outputs": [],
   "metadata": {}
  },
  {
   "cell_type": "markdown",
   "source": [
    "# Graphs Types\r\n",
    "Matplotlib provides numerous types of graphs that can be generated.\r\n",
    "\r\n",
    "## Basic Plots\r\n",
    "* plot(x,y)\r\n",
    "* scatter(x,y)\r\n",
    "* bar(x,y)\r\n",
    "* stem(x,y)\r\n",
    "* step(x,y)\r\n",
    "\r\n",
    "## Statistics\r\n",
    "* hist(x)\r\n",
    "* boxplot(x)\r\n",
    "* pie(x)\r\n",
    "\r\n",
    "# Improving our graphs\r\n",
    "We have a graph, but its not very intuitive.\r\n",
    "\r\n",
    "Since we now how to plot data, lets add some details to it.\r\n",
    "\r\n",
    "Useful methods to add to a chart include\r\n",
    "* figure: Create a new figure.\r\n",
    "* legend: Place a legend on the axes.\r\n",
    "* title: Set a title for the axes.\r\n",
    "* xlabel: Set the x-axis label.\r\n",
    "* xticks: Set the x-axis ticks and label\r\n",
    "* ylabel: Set the y-axis label.\r\n",
    "* yticks: Set the y-axis ticks and label"
   ],
   "metadata": {}
  },
  {
   "cell_type": "code",
   "execution_count": null,
   "source": [
    "# import matplotlib\r\n",
    "from matplotlib import pyplot as plt\r\n",
    "\r\n",
    "def hoursToDays():\r\n",
    "    ticks = hoursInMonth = [i*24 for i in range(31)]\r\n",
    "    labels = daysInMonth = [i for i in range (31)]\r\n",
    "    return ticks, labels\r\n",
    "\r\n",
    "# Control the size of the plot, before plotting any data\r\n",
    "i_width = 12\r\n",
    "i_height = 6\r\n",
    "size_inchs = (i_width, i_height)\r\n",
    "plt.figure(figsize=size_inchs, dpi=300)\r\n",
    "\r\n",
    "# Add some legend details to the plot\r\n",
    "plt.title(\"Unique Visitors / Hour\")\r\n",
    "plt.xlabel(\"Day\")\r\n",
    "plt.ylabel(\"Visitors\")\r\n",
    "ticks, labels = hoursToDays()\r\n",
    "plt.xticks(ticks, labels)\r\n",
    "plt.grid()\r\n",
    "\r\n",
    "# Plot and render the graph\r\n",
    "plt.plot(hits)\r\n",
    "plt.show()"
   ],
   "outputs": [],
   "metadata": {}
  }
 ],
 "metadata": {
  "orig_nbformat": 4,
  "language_info": {
   "name": "python",
   "version": "3.9.7",
   "mimetype": "text/x-python",
   "codemirror_mode": {
    "name": "ipython",
    "version": 3
   },
   "pygments_lexer": "ipython3",
   "nbconvert_exporter": "python",
   "file_extension": ".py"
  },
  "kernelspec": {
   "name": "python3",
   "display_name": "Python 3.9.7 64-bit ('base': conda)"
  },
  "interpreter": {
   "hash": "6a6ae1a10b752a4a6730abd3646c27c7bec63855881566ab4a49b1336cfe295a"
  }
 },
 "nbformat": 4,
 "nbformat_minor": 2
}